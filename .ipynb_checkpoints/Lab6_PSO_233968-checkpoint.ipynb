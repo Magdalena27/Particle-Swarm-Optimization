{
 "cells": [
  {
   "cell_type": "code",
   "execution_count": 1,
   "metadata": {},
   "outputs": [],
   "source": [
    "import numpy as np\n",
    "from PSO import PSO\n",
    "from MinMax import MinMax"
   ]
  },
  {
   "cell_type": "markdown",
   "metadata": {},
   "source": [
    "<div style=\"text-align: justify\">Zadanie:\n",
    "Zaimplementuj algorytm optymalizacji roju cząstek (PSO) i znajdź przy jego pomocy minimum funkcji:\n",
    "$$   \n",
    "f(x,y) = (1.5 – x -xy)^2 + (2.25 – x + xy^2)^2 + (2.625 – x + xy^3)^2\n",
    "$$  \n",
    "    dla x,y z zakresu [-4.5, 4.5]\n",
    "\n",
    "Przetestuj działanie algorytmu dla różnych parametrów.</div>"
   ]
  },
  {
   "cell_type": "code",
   "execution_count": 2,
   "metadata": {},
   "outputs": [],
   "source": [
    "def f(vec):\n",
    "    f = (1.5-vec[0]-vec[0]*vec[1])**2 + \\\n",
    "    (2.25-vec[0]+vec[0]*vec[1]**2)**2 + (2.625-vec[0]+vec[0]*vec[1]**3)**2\n",
    "    return f"
   ]
  },
  {
   "cell_type": "markdown",
   "metadata": {},
   "source": [
    "<H4> Test algorytmu roju cząstek dla $\\omega = 0.5, \\phi_1 = 0.5, \\phi_2 = 0.5$"
   ]
  },
  {
   "cell_type": "code",
   "execution_count": 3,
   "metadata": {},
   "outputs": [],
   "source": [
    "adaptation_function = f\n",
    "number_of_particles = 100\n",
    "omega = 0.5\n",
    "fi1 = 0.5\n",
    "fi2 = 0.5\n",
    "n_dim = 2\n",
    "bounds = [(-4.5, 4.5), (-4.5, 4.5)]\n",
    "min_or_max = MinMax.MIN\n",
    "number_of_iterations = 100"
   ]
  },
  {
   "cell_type": "code",
   "execution_count": 4,
   "metadata": {},
   "outputs": [],
   "source": [
    "particle_swarn = PSO(adaptation_function, number_of_particles, omega, fi1,\n",
    "                    fi2, n_dim, bounds, min_or_max, number_of_iterations)"
   ]
  },
  {
   "cell_type": "code",
   "execution_count": 5,
   "metadata": {},
   "outputs": [],
   "source": [
    "particle_swarn.perform_calculations()"
   ]
  },
  {
   "cell_type": "code",
   "execution_count": 7,
   "metadata": {},
   "outputs": [],
   "source": [
    "result = particle_swarn.get_result()"
   ]
  },
  {
   "cell_type": "code",
   "execution_count": 10,
   "metadata": {},
   "outputs": [
    {
     "name": "stdout",
     "output_type": "stream",
     "text": [
      "Funkcja osiąga minimum w punkcie:  [ 2.51035189 -0.36631564] \n",
      " wartość funkcji w tym punkcie:  0.014168877215809322\n"
     ]
    }
   ],
   "source": [
    "print(\"Funkcja osiąga minimum w punkcie: \", result[0], \n",
    "      \"\\n wartość funkcji w tym punkcie: \", result[1])"
   ]
  },
  {
   "cell_type": "markdown",
   "metadata": {},
   "source": [
    "<H4> Test algorytmu roju cząstek dla $\\omega = 0.5, \\phi_1 = 0.9, \\phi_2 = 0.2$"
   ]
  },
  {
   "cell_type": "code",
   "execution_count": 11,
   "metadata": {},
   "outputs": [],
   "source": [
    "omega = 0.5\n",
    "fi1 = 0.9\n",
    "fi2 = 0.2"
   ]
  },
  {
   "cell_type": "code",
   "execution_count": 12,
   "metadata": {},
   "outputs": [],
   "source": [
    "particle_swarn = PSO(adaptation_function, number_of_particles, omega, fi1,\n",
    "                    fi2, n_dim, bounds, min_or_max, number_of_iterations)\n",
    "particle_swarn.perform_calculations()\n",
    "result = particle_swarn.get_result()"
   ]
  },
  {
   "cell_type": "code",
   "execution_count": 13,
   "metadata": {},
   "outputs": [
    {
     "name": "stdout",
     "output_type": "stream",
     "text": [
      "Funkcja osiąga minimum w punkcie:  [ 2.46021768 -0.37664716] \n",
      " wartość funkcji w tym punkcie:  0.021503001375403598\n"
     ]
    }
   ],
   "source": [
    "print(\"Funkcja osiąga minimum w punkcie: \", result[0], \n",
    "      \"\\n wartość funkcji w tym punkcie: \", result[1])"
   ]
  },
  {
   "cell_type": "markdown",
   "metadata": {},
   "source": [
    "<H4> Test algorytmu roju cząstek dla $\\omega = 0.5, \\phi_1 = 0.2, \\phi_2 = 0.9$"
   ]
  },
  {
   "cell_type": "code",
   "execution_count": 14,
   "metadata": {},
   "outputs": [],
   "source": [
    "omega = 0.5\n",
    "fi1 = 0.2\n",
    "fi2 = 0.9"
   ]
  },
  {
   "cell_type": "code",
   "execution_count": 15,
   "metadata": {},
   "outputs": [],
   "source": [
    "particle_swarn = PSO(adaptation_function, number_of_particles, omega, fi1,\n",
    "                    fi2, n_dim, bounds, min_or_max, number_of_iterations)\n",
    "particle_swarn.perform_calculations()\n",
    "result = particle_swarn.get_result()"
   ]
  },
  {
   "cell_type": "code",
   "execution_count": 16,
   "metadata": {},
   "outputs": [
    {
     "name": "stdout",
     "output_type": "stream",
     "text": [
      "Funkcja osiąga minimum w punkcie:  [ 2.5209139  -0.40142242] \n",
      " wartość funkcji w tym punkcie:  0.021866661071432546\n"
     ]
    }
   ],
   "source": [
    "print(\"Funkcja osiąga minimum w punkcie: \", result[0], \n",
    "      \"\\n wartość funkcji w tym punkcie: \", result[1])"
   ]
  },
  {
   "cell_type": "markdown",
   "metadata": {},
   "source": [
    "<div style=\"text-align:justify\"><strong>Wnioski:</strong> Algorytm osiąga podobne wartości dla różnych parametrów, jednak najmniejszą wartość - najbliższą szukanej, osiągnął dla $\\omega = 0.5, \\phi_1 = 0.5, \\phi_2 = 0.5$, a więc dla sytuacji, w której zaufanie cząsteczki do własnej wiedzy i do wiedzy roju jest takie samo.</div>"
   ]
  }
 ],
 "metadata": {
  "kernelspec": {
   "display_name": "Python 3",
   "language": "python",
   "name": "python3"
  },
  "language_info": {
   "codemirror_mode": {
    "name": "ipython",
    "version": 3
   },
   "file_extension": ".py",
   "mimetype": "text/x-python",
   "name": "python",
   "nbconvert_exporter": "python",
   "pygments_lexer": "ipython3",
   "version": "3.7.6"
  }
 },
 "nbformat": 4,
 "nbformat_minor": 4
}
